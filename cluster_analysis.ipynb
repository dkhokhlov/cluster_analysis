{
 "cells": [
  {
   "cell_type": "markdown",
   "metadata": {
    "toc": true
   },
   "source": [
    "<h1>Table of Contents<span class=\"tocSkip\"></span></h1>\n",
    "<div class=\"toc\"><ul class=\"toc-item\"></ul></div>"
   ]
  },
  {
   "cell_type": "code",
   "execution_count": null,
   "metadata": {
    "ExecuteTime": {
     "end_time": "2021-10-22T03:59:04.099981Z",
     "start_time": "2021-10-22T03:59:03.500901Z"
    },
    "pycharm": {
     "is_executing": false
    }
   },
   "outputs": [],
   "source": [
    "import pandas as pd\n",
    "import matplotlib.pyplot as plt\n",
    "import plotly.express as px\n",
    "import numpy as np\n",
    "import seaborn as sb"
   ]
  },
  {
   "cell_type": "code",
   "execution_count": null,
   "metadata": {
    "ExecuteTime": {
     "end_time": "2021-10-22T03:13:08.519426Z",
     "start_time": "2021-10-22T03:13:07.931825Z"
    },
    "pycharm": {
     "is_executing": false
    }
   },
   "outputs": [],
   "source": [
    "df = pd.read_csv('benchmark_dataset.csv')"
   ]
  },
  {
   "cell_type": "code",
   "execution_count": null,
   "metadata": {
    "ExecuteTime": {
     "end_time": "2021-10-22T03:13:08.585669Z",
     "start_time": "2021-10-22T03:13:08.521710Z"
    },
    "pycharm": {
     "is_executing": false
    }
   },
   "outputs": [],
   "source": [
    "df"
   ]
  },
  {
   "cell_type": "code",
   "execution_count": null,
   "metadata": {
    "ExecuteTime": {
     "end_time": "2021-10-22T03:13:08.589349Z",
     "start_time": "2021-10-22T03:13:08.587334Z"
    },
    "pycharm": {
     "is_executing": false,
     "name": "#%%\n"
    }
   },
   "outputs": [],
   "source": [
    "#(df != 0).any(axis=0)"
   ]
  },
  {
   "cell_type": "code",
   "execution_count": null,
   "metadata": {
    "ExecuteTime": {
     "end_time": "2021-10-22T03:50:32.524085Z",
     "start_time": "2021-10-22T03:50:31.949366Z"
    },
    "pycharm": {
     "is_executing": false
    }
   },
   "outputs": [],
   "source": [
    "unique_thr = 10\n",
    "df = df.loc[:,(df.nunique() > unique_thr)]\n",
    "df['timestamp'] = pd.to_datetime(df['timestamp']) \n",
    "df.set_index('timestamp', inplace=True)\n",
    "df"
   ]
  },
  {
   "cell_type": "code",
   "execution_count": null,
   "metadata": {
    "ExecuteTime": {
     "end_time": "2021-10-22T03:13:09.706274Z",
     "start_time": "2021-10-22T03:13:09.700918Z"
    },
    "pycharm": {
     "is_executing": false,
     "name": "#%%\n"
    }
   },
   "outputs": [],
   "source": [
    "df['timestamp'].head"
   ]
  },
  {
   "cell_type": "code",
   "execution_count": null,
   "metadata": {
    "ExecuteTime": {
     "end_time": "2021-10-22T03:59:53.502474Z",
     "start_time": "2021-10-22T03:59:53.486444Z"
    }
   },
   "outputs": [],
   "source": [
    "pd.Series(np.diff(df.index.values)).describe([0.01, 0.9, 0.95, 0.99, 0.999])"
   ]
  },
  {
   "cell_type": "code",
   "execution_count": null,
   "metadata": {
    "ExecuteTime": {
     "end_time": "2021-10-22T04:00:21.193781Z",
     "start_time": "2021-10-22T04:00:21.182031Z"
    },
    "scrolled": true
   },
   "outputs": [],
   "source": [
    "pd.Series(np.diff(df.index.values)).sort_values().tail(20)"
   ]
  },
  {
   "cell_type": "code",
   "execution_count": null,
   "metadata": {
    "ExecuteTime": {
     "end_time": "2021-10-22T03:49:27.782164Z",
     "start_time": "2021-10-22T03:49:14.042210Z"
    },
    "pycharm": {
     "is_executing": false
    }
   },
   "outputs": [],
   "source": [
    "norm_df = (df-df.min())/(df.max()-df.min())\n",
    "fig = px.scatter(norm_df, x=\"timestamp\", y=norm_df.columns, title='EDA', template = 'plotly_dark')\n",
    "fig.update_layout(showlegend=False)\n",
    "fig.update_traces(marker_size=1)\n",
    "fig.show()"
   ]
  },
  {
   "cell_type": "code",
   "execution_count": null,
   "metadata": {},
   "outputs": [],
   "source": []
  },
  {
   "cell_type": "code",
   "execution_count": null,
   "metadata": {
    "ExecuteTime": {
     "end_time": "2021-10-22T03:52:10.922873Z",
     "start_time": "2021-10-22T03:51:42.632629Z"
    }
   },
   "outputs": [],
   "source": [
    "df_norm = (df-df.min())/(df.max()-df.min())\n",
    "df_norm = df_norm.rolling(20, min_periods=1).mean()\n",
    "fig = px.line(df_norm, y=df_norm.columns, title='EDA', template = 'plotly_dark')\n",
    "fig.update_layout(showlegend=False)\n",
    "fig.update_traces(marker_size=1)\n",
    "fig.show()"
   ]
  },
  {
   "cell_type": "code",
   "execution_count": null,
   "metadata": {
    "ExecuteTime": {
     "end_time": "2021-10-22T03:13:10.386607Z",
     "start_time": "2021-10-22T03:13:10.381991Z"
    },
    "pycharm": {
     "is_executing": false
    }
   },
   "outputs": [],
   "source": [
    "df.columns"
   ]
  },
  {
   "cell_type": "code",
   "execution_count": null,
   "metadata": {},
   "outputs": [],
   "source": [
    "# from min to max timestamp, every 1 ms. sum number rows that exist in last X seconds. plot that time series"
   ]
  }
 ],
 "metadata": {
  "kernelspec": {
   "display_name": "Python 3",
   "language": "python",
   "name": "python3"
  },
  "language_info": {
   "codemirror_mode": {
    "name": "ipython",
    "version": 3
   },
   "file_extension": ".py",
   "mimetype": "text/x-python",
   "name": "python",
   "nbconvert_exporter": "python",
   "pygments_lexer": "ipython3",
   "version": "3.7.7"
  },
  "pycharm": {
   "stem_cell": {
    "cell_type": "raw",
    "metadata": {
     "collapsed": false
    },
    "source": []
   }
  },
  "toc": {
   "base_numbering": 1,
   "nav_menu": {},
   "number_sections": true,
   "sideBar": true,
   "skip_h1_title": false,
   "title_cell": "Table of Contents",
   "title_sidebar": "Contents",
   "toc_cell": true,
   "toc_position": {},
   "toc_section_display": true,
   "toc_window_display": false
  }
 },
 "nbformat": 4,
 "nbformat_minor": 4
}
